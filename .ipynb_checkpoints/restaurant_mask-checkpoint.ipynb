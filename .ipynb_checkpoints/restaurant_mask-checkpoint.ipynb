{
 "cells": [
  {
   "cell_type": "code",
   "execution_count": 1,
   "id": "russian-tutorial",
   "metadata": {},
   "outputs": [],
   "source": [
    "import cv2\n",
    "import numpy as np\n",
    "import matplotlib.pyplot as plt"
   ]
  },
  {
   "cell_type": "code",
   "execution_count": 14,
   "id": "plain-center",
   "metadata": {},
   "outputs": [
    {
     "data": {
      "text/plain": [
       "<matplotlib.image.AxesImage at 0x7fabd40c8f98>"
      ]
     },
     "execution_count": 14,
     "metadata": {},
     "output_type": "execute_result"
    },
    {
     "data": {
      "image/png": "[encoded data removed]",
      "text/plain": [
       "<Figure size 720x720 with 1 Axes>"
      ]
     },
     "metadata": {
      "needs_background": "light"
     },
     "output_type": "display_data"
    }
   ],
   "source": [
    "scale_y = 41         #1 meter in real world coordinates\n",
    "scale_x = 41.5      #1 meter in real world coordinates \n",
    "\n",
    "#create an image\n",
    "img_h = 2000\n",
    "img_w = 2000\n",
    "base_image = np.zeros((img_h,img_w,3),dtype=np.uint8)\n",
    "\n",
    "#camera positions\n",
    "camera_positions = np.array([(4,4),(-4,4),(-4,-4),(4,-4),(0,0)]) #camera locations in xacro files(joints)\n",
    "#I don't need the \"spacing\" parameter because my camera position is the actual distances\n",
    "\n",
    "#the top of the camera faces the x direction in gazebo\n",
    "\n",
    "#multiply by -1 and fliplr to align image and camera\n",
    "cam_locations = -1*camera_positions*(scale_x,scale_y) + (img_w/2,img_h/2)\n",
    "cam_locations = np.fliplr(cam_locations)\n",
    "\n",
    "for px,py in cam_locations:\n",
    "    px,py = int(px),int(py)\n",
    "    cv2.circle(base_image,(px,py),10,(0,255,0),-1)\n",
    "    \n",
    "x = int(cam_locations[2,0])\n",
    "y = int(cam_locations[2,1])\n",
    "cv2.circle(base_image,(x,y),10,(255,255,0),-1)\n",
    "plt.figure(figsize=(10,10))\n",
    "plt.imshow(base_image)   "
   ]
  },
  {
   "cell_type": "code",
   "execution_count": null,
   "id": "minimal-worst",
   "metadata": {},
   "outputs": [],
   "source": []
  }
 ],
 "metadata": {
  "kernelspec": {
   "display_name": "Python 3",
   "language": "python",
   "name": "python3"
  },
  "language_info": {
   "codemirror_mode": {
    "name": "ipython",
    "version": 3
   },
   "file_extension": ".py",
   "mimetype": "text/x-python",
   "name": "python",
   "nbconvert_exporter": "python",
   "pygments_lexer": "ipython3",
   "version": "3.6.9"
  }
 },
 "nbformat": 4,
 "nbformat_minor": 5
}
