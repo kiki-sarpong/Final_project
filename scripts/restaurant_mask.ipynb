{
 "cells": [
  {
   "cell_type": "code",
   "execution_count": 25,
   "id": "russian-tutorial",
   "metadata": {},
   "outputs": [],
   "source": [
    "import cv2\n",
    "import numpy as np\n",
    "import matplotlib.pyplot as plt"
   ]
  },
  {
   "cell_type": "code",
   "execution_count": 37,
   "id": "confidential-wilson",
   "metadata": {},
   "outputs": [
    {
     "data": {
      "text/plain": [
       "<matplotlib.image.AxesImage at 0x7ff3f5309ba8>"
      ]
     },
     "execution_count": 37,
     "metadata": {},
     "output_type": "execute_result"
    },
    {
     "data": {
      "image/png": "[encoded data removed]",
      "text/plain": [
       "<Figure size 720x720 with 1 Axes>"
      ]
     },
     "metadata": {
      "needs_background": "light"
     },
     "output_type": "display_data"
    }
   ],
   "source": [
    "scale_y = 41         #1 meter in real world coordinates\n",
    "scale_x = 41.5      #1 meter in real world coordinates \n",
    "\n",
    "#create an image\n",
    "img_h = 2000\n",
    "img_w = 2000\n",
    "base_image = np.zeros((img_h,img_w,3),dtype=np.uint8)\n",
    "\n",
    "#camera positions\n",
    "#cam positions must be in same order used in xacro or urdf file\n",
    "camera_positions = np.array([(4,4),(-4,4),(-4,-4),(4,-4),(0,0)]) #camera locations in xacro files(joints)\n",
    "#I don't need the \"spacing\" parameter because my camera position is the actual distances\n",
    "\n",
    "#the top of the camera faces the x direction in gazebo\n",
    "#multiply by -1 and fliplr to align image and camera\n",
    "cam_locations = -1*camera_positions*(scale_x,scale_y) + (img_w/2,img_h/2)\n",
    "cam_locations = np.fliplr(cam_locations)\n",
    "\n",
    "for px,py in cam_locations:\n",
    "    px,py = int(px),int(py)\n",
    "    cv2.circle(base_image,(px,py),10,(0,255,0),-1)\n",
    "\n",
    "\n",
    "# x = int(cam_locations[2,0])\n",
    "# y = int(cam_locations[2,1])\n",
    "# cv2.circle(base_image,(x,y),10,(255,255,0),-1)\n",
    "plt.figure(figsize=(10,10))\n",
    "plt.imshow(base_image)   "
   ]
  },
  {
   "cell_type": "code",
   "execution_count": null,
   "id": "understood-proof",
   "metadata": {},
   "outputs": [],
   "source": [
    "##### base_copy = base_image.copy()\n",
    "\n",
    "base_copy1 = base_image.copy()\n",
    "path = \"segmented_imgs/camera1.png\"\n",
    "img = cv2.imread(path)\n",
    "offset_x = int(cam_locations[0,0] - img.shape[1]/2)  #figure out the offset to get where the image is placed\n",
    "offset_y = int(cam_locations[0,1] - img.shape[0]/2)\n",
    "y1,y2 = offset_y,offset_y + img.shape[0]\n",
    "x1,x2 = offset_x,offset_x + img.shape[1]\n",
    "base_copy1[y1:y2,x1:x2] = img\n",
    "\n",
    "\n",
    "# x = int(cam_locations[0,0])\n",
    "# y = int(cam_locations[0,1])\n",
    "# xx = int(cam_locations[1,0])\n",
    "# yy = int(cam_locations[1,1])\n",
    "# cv2.circle(base_copy,(xx,yy),4,(255,255,0),-1)\n",
    "# cv2.circle(base_copy,(x,y),4,(255,255,0),-1)\n",
    "plt.figure(figsize=(10,10))\n",
    "# plt.imshow(base_copy1)\n",
    "\n",
    "\n",
    "# ////////////////////////////////////////\n",
    "base_copy2 = base_image.copy()\n",
    "path = \"segmented_imgs/camera2.png\"\n",
    "img = cv2.imread(path)\n",
    "offset_x = int(cam_locations[1,0] - img.shape[1]/2)  #figure out the offset to get where the image is placed\n",
    "offset_y = int(cam_locations[1,1] - img.shape[0]/2)\n",
    "y1,y2 = offset_y,offset_y + img.shape[0]\n",
    "x1,x2 = offset_x,offset_x + img.shape[1]\n",
    "base_copy2[y1:y2,x1:x2] = img\n",
    "plt.figure(figsize=(10,10))\n",
    "# plt.imshow(base_copy2)\n",
    "\n",
    "##///////////////////////////////////////\n",
    "base_copy3 = base_image.copy()\n",
    "path = \"segmented_imgs/camera3.png\"\n",
    "img = cv2.imread(path)\n",
    "offset_x = int(cam_locations[2,0] - img.shape[1]/2)  #figure out the offset to get where the image is placed\n",
    "offset_y = int(cam_locations[2,1] - img.shape[0]/2)\n",
    "y1,y2 = offset_y,offset_y + img.shape[0]\n",
    "x1,x2 = offset_x,offset_x + img.shape[1]\n",
    "base_copy3[y1:y2,x1:x2] = img\n",
    "plt.figure(figsize=(10,10))\n",
    "# plt.imshow(base_copy3)\n",
    "\n",
    "\n",
    "\n",
    "##///////////////////////////////////////\n",
    "base_copy4 = base_image.copy()\n",
    "path = \"segmented_imgs/camera4.png\"\n",
    "img = cv2.imread(path)\n",
    "offset_x = int(cam_locations[3,0] - img.shape[1]/2)  #figure out the offset to get where the image is placed\n",
    "offset_y = int(cam_locations[3,1] - img.shape[0]/2)\n",
    "y1,y2 = offset_y,offset_y + img.shape[0]\n",
    "x1,x2 = offset_x,offset_x + img.shape[1]\n",
    "base_copy4[y1:y2,x1:x2] = img\n",
    "plt.figure(figsize=(10,10))\n",
    "# plt.imshow(base_copy4)\n",
    "\n",
    "\n",
    "\n",
    "##///////////////////////////////////////\n",
    "base_copy5 = base_image.copy()\n",
    "path = \"segmented_imgs/camera5.png\"\n",
    "img = cv2.imread(path)\n",
    "#cam number - 1 = cam_location\n",
    "offset_x = int(cam_locations[4,0] - img.shape[1]/2)  #figure out the offset to get where the image is placed\n",
    "offset_y = int(cam_locations[4,1] - img.shape[0]/2)\n",
    "y1,y2 = offset_y,offset_y + img.shape[0]\n",
    "x1,x2 = offset_x,offset_x + img.shape[1]\n",
    "base_copy5[y1:y2,x1:x2] = img\n",
    "plt.figure(figsize=(10,10))\n",
    "# plt.imshow(base_copy5)\n",
    "\n",
    "add_img = base_copy1 + base_copy2+ base_copy3 + base_copy4 + base_copy5  ###add up images to get full mask\n",
    "\n",
    "x1 = int(cam_locations[0,0] - img.shape[1]/2)  \n",
    "y1 = int(cam_locations[0,1] - img.shape[0]/2)\n",
    "x2 = int(cam_locations[2,0] + img.shape[1]/2)  \n",
    "y2 = int(cam_locations[2,1] + img.shape[0]/2)\n",
    "\n",
    "final_img = add_img[y1:y2,x1:x2]\n",
    "plt.figure(figsize=(15,15))\n",
    "plt.imshow(final_img)\n",
    "print(final_img.shape)\n",
    "# f_resize = cv2.resize(final_img,(200,200))\n",
    "# cv2.imshow(\"image\",f_resize)\n",
    "# cv2.waitKey(0)\n",
    "# cv2.destroyAllWindows"
   ]
  },
  {
   "cell_type": "code",
   "execution_count": 39,
   "id": "exclusive-shakespeare",
   "metadata": {},
   "outputs": [
    {
     "name": "stdout",
     "output_type": "stream",
     "text": [
      "[836. 834.]\n",
      "[ 836. 1166.]\n",
      "[1164. 1166.]\n",
      "[1164.  834.]\n",
      "[1000. 1000.]\n"
     ]
    }
   ],
   "source": [
    "for num in cam_locations:\n",
    "    print(num)"
   ]
  }
 ],
 "metadata": {
  "kernelspec": {
   "display_name": "Python 3",
   "language": "python",
   "name": "python3"
  },
  "language_info": {
   "codemirror_mode": {
    "name": "ipython",
    "version": 3
   },
   "file_extension": ".py",
   "mimetype": "text/x-python",
   "name": "python",
   "nbconvert_exporter": "python",
   "pygments_lexer": "ipython3",
   "version": "3.6.9"
  }
 },
 "nbformat": 4,
 "nbformat_minor": 5
}
